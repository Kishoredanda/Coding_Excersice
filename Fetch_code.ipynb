{
 "cells": [
  {
   "cell_type": "markdown",
   "id": "ce8328ef",
   "metadata": {},
   "source": [
    "# Fetch Rewards Coding Exercise - Data Analyst"
   ]
  },
  {
   "cell_type": "markdown",
   "id": "88aeac3a",
   "metadata": {},
   "source": [
    "## First: Data Loading"
   ]
  },
  {
   "cell_type": "markdown",
   "id": "bdda69ed",
   "metadata": {},
   "source": [
    "Loaded the unstructured Users & Brands JSON data. A relational data model diagram has been place in the repository (ER_diagram.pdf) "
   ]
  },
  {
   "cell_type": "code",
   "execution_count": 204,
   "id": "fc824307",
   "metadata": {},
   "outputs": [],
   "source": [
    "from pandas import json_normalize\n",
    "import json\n",
    "import pandas as pd\n",
    "import datetime\n",
    "\n",
    "usersList = []\n",
    "with open(\"E:\\\\Fetch\\\\users.json\") as f:\n",
    "    for jsonObj in f:\n",
    "        usersDict = json.loads(jsonObj)\n",
    "        usersList.append(usersDict)\n",
    "df_users = json_normalize(usersList)\n",
    "\n",
    "brandsList = []\n",
    "with open(\"E:\\\\Fetch\\\\brands.json\") as f:\n",
    "    for jsonObj in f:\n",
    "        brandsDict = json.loads(jsonObj)\n",
    "        brandsList.append(brandsDict)\n",
    "df_brands = json_normalize(brandsList)\n"
   ]
  },
  {
   "cell_type": "markdown",
   "id": "12e28f32",
   "metadata": {},
   "source": [
    "Loaded the receipts data into a \"df_receipts\" dataframe except for the \"rewardsReceiptItemList\" field. This field has a receipts list for each item, so i have loaded those details unto a new dataframe called \"df_itemslist\"."
   ]
  },
  {
   "cell_type": "code",
   "execution_count": 205,
   "id": "68e06b5d",
   "metadata": {},
   "outputs": [],
   "source": [
    "df_receipts = [json.loads(k) for k in open('E:\\\\Fetch\\\\receipts.json','r')]\n",
    "#Format receipts data\n",
    "temp = []\n",
    "temp1 = []\n",
    "for b in range(0,len(df_receipts)):\n",
    "    k = {}\n",
    "    for i,j in df_receipts[b].items():\n",
    "        if i == '_id':\n",
    "            p = j['$oid']\n",
    "            j=p\n",
    "            tempid = p\n",
    "            k[i] = j\n",
    "        if i in ('createDate','dateScanned','finishedDate','modifyDate','pointsAwardedDate','purchaseDate'):\n",
    "            p = int(j['$date'])\n",
    "            j=p/1000\n",
    "            j=datetime.datetime.fromtimestamp(j)\n",
    "            j=j.strftime('%Y-%m-%d')\n",
    "            k[i] = j\n",
    "        if i == 'rewardsReceiptItemList':\n",
    "            for c in range(0,len(j)):\n",
    "                m = {}\n",
    "                for a,b in j[c].items():\n",
    "                    m[a] = b\n",
    "                    m['_id'] = tempid\n",
    "                temp1.append(m)\n",
    "        else:\n",
    "            k[i]=j\n",
    "    temp.append(k)\n",
    "df_receipts = pd.DataFrame(temp)\n",
    "df_itemslist = pd.DataFrame(temp1)"
   ]
  },
  {
   "cell_type": "markdown",
   "id": "db000b38",
   "metadata": {},
   "source": [
    "Renameing the columns in users and brands dataframes."
   ]
  },
  {
   "cell_type": "code",
   "execution_count": 206,
   "id": "cca31d3b",
   "metadata": {},
   "outputs": [],
   "source": [
    "df_users = df_users.rename(columns={'_id.$oid' : '_id', 'createdDate.$date' : 'createdDate', \n",
    "                                    'lastLogin.$date' : 'lastLogin'})\n",
    "df_brands = df_brands.rename(columns={'_id.$oid' : '_id', 'cpg.$id.$oid' : 'cpg_id', 'cpg.$ref' : 'cpg_ref'})"
   ]
  },
  {
   "cell_type": "markdown",
   "id": "99fe20f4",
   "metadata": {},
   "source": [
    "The date columns in users dataframe is converted from 13 digit date format to datetime format"
   ]
  },
  {
   "cell_type": "code",
   "execution_count": 207,
   "id": "2d312e10",
   "metadata": {},
   "outputs": [],
   "source": [
    "df_users['createdDate'] = df_users['createdDate'].apply(lambda timestamp : \n",
    "                                                                    datetime.datetime.fromtimestamp(int(timestamp)/1000))\n",
    "df_users['createdDate'] = pd.to_datetime(df_users['createdDate'])\n",
    "df_users['lastLogin'] = df_users[~df_users['lastLogin'].isnull()].loc[:,'lastLogin'].apply(lambda timestamp : \n",
    "                                                                    datetime.datetime.fromtimestamp(int(timestamp)/1000))\n",
    "df_users['lastLogin'] = pd.to_datetime(df_users['lastLogin'])"
   ]
  },
  {
   "cell_type": "markdown",
   "id": "1ddea04d",
   "metadata": {},
   "source": [
    "## Receipts Data"
   ]
  },
  {
   "cell_type": "code",
   "execution_count": 209,
   "id": "0a3953ab",
   "metadata": {},
   "outputs": [
    {
     "data": {
      "text/html": [
       "<div>\n",
       "<style scoped>\n",
       "    .dataframe tbody tr th:only-of-type {\n",
       "        vertical-align: middle;\n",
       "    }\n",
       "\n",
       "    .dataframe tbody tr th {\n",
       "        vertical-align: top;\n",
       "    }\n",
       "\n",
       "    .dataframe thead th {\n",
       "        text-align: right;\n",
       "    }\n",
       "</style>\n",
       "<table border=\"1\" class=\"dataframe\">\n",
       "  <thead>\n",
       "    <tr style=\"text-align: right;\">\n",
       "      <th></th>\n",
       "      <th>_id</th>\n",
       "      <th>bonusPointsEarned</th>\n",
       "      <th>bonusPointsEarnedReason</th>\n",
       "      <th>createDate</th>\n",
       "      <th>dateScanned</th>\n",
       "      <th>finishedDate</th>\n",
       "      <th>modifyDate</th>\n",
       "      <th>pointsAwardedDate</th>\n",
       "      <th>pointsEarned</th>\n",
       "      <th>purchaseDate</th>\n",
       "      <th>purchasedItemCount</th>\n",
       "      <th>rewardsReceiptStatus</th>\n",
       "      <th>totalSpent</th>\n",
       "      <th>userId</th>\n",
       "    </tr>\n",
       "  </thead>\n",
       "  <tbody>\n",
       "    <tr>\n",
       "      <th>0</th>\n",
       "      <td>5ff1e1eb0a720f0523000575</td>\n",
       "      <td>500.0</td>\n",
       "      <td>Receipt number 2 completed, bonus point schedu...</td>\n",
       "      <td>2021-01-03</td>\n",
       "      <td>2021-01-03</td>\n",
       "      <td>2021-01-03</td>\n",
       "      <td>2021-01-03</td>\n",
       "      <td>2021-01-03</td>\n",
       "      <td>500.0</td>\n",
       "      <td>2021-01-02</td>\n",
       "      <td>5.0</td>\n",
       "      <td>FINISHED</td>\n",
       "      <td>26.00</td>\n",
       "      <td>5ff1e1eacfcf6c399c274ae6</td>\n",
       "    </tr>\n",
       "    <tr>\n",
       "      <th>1</th>\n",
       "      <td>5ff1e1bb0a720f052300056b</td>\n",
       "      <td>150.0</td>\n",
       "      <td>Receipt number 5 completed, bonus point schedu...</td>\n",
       "      <td>2021-01-03</td>\n",
       "      <td>2021-01-03</td>\n",
       "      <td>2021-01-03</td>\n",
       "      <td>2021-01-03</td>\n",
       "      <td>2021-01-03</td>\n",
       "      <td>150.0</td>\n",
       "      <td>2021-01-02</td>\n",
       "      <td>2.0</td>\n",
       "      <td>FINISHED</td>\n",
       "      <td>11.00</td>\n",
       "      <td>5ff1e194b6a9d73a3a9f1052</td>\n",
       "    </tr>\n",
       "    <tr>\n",
       "      <th>2</th>\n",
       "      <td>5ff1e1f10a720f052300057a</td>\n",
       "      <td>5.0</td>\n",
       "      <td>All-receipts receipt bonus</td>\n",
       "      <td>2021-01-03</td>\n",
       "      <td>2021-01-03</td>\n",
       "      <td>NaN</td>\n",
       "      <td>2021-01-03</td>\n",
       "      <td>NaN</td>\n",
       "      <td>5</td>\n",
       "      <td>2021-01-02</td>\n",
       "      <td>1.0</td>\n",
       "      <td>REJECTED</td>\n",
       "      <td>10.00</td>\n",
       "      <td>5ff1e1f1cfcf6c399c274b0b</td>\n",
       "    </tr>\n",
       "    <tr>\n",
       "      <th>3</th>\n",
       "      <td>5ff1e1ee0a7214ada100056f</td>\n",
       "      <td>5.0</td>\n",
       "      <td>All-receipts receipt bonus</td>\n",
       "      <td>2021-01-03</td>\n",
       "      <td>2021-01-03</td>\n",
       "      <td>2021-01-03</td>\n",
       "      <td>2021-01-03</td>\n",
       "      <td>2021-01-03</td>\n",
       "      <td>5.0</td>\n",
       "      <td>2021-01-02</td>\n",
       "      <td>4.0</td>\n",
       "      <td>FINISHED</td>\n",
       "      <td>28.00</td>\n",
       "      <td>5ff1e1eacfcf6c399c274ae6</td>\n",
       "    </tr>\n",
       "    <tr>\n",
       "      <th>4</th>\n",
       "      <td>5ff1e1d20a7214ada1000561</td>\n",
       "      <td>5.0</td>\n",
       "      <td>All-receipts receipt bonus</td>\n",
       "      <td>2021-01-03</td>\n",
       "      <td>2021-01-03</td>\n",
       "      <td>2021-01-03</td>\n",
       "      <td>2021-01-03</td>\n",
       "      <td>2021-01-03</td>\n",
       "      <td>5.0</td>\n",
       "      <td>2021-01-02</td>\n",
       "      <td>2.0</td>\n",
       "      <td>FINISHED</td>\n",
       "      <td>1.00</td>\n",
       "      <td>5ff1e194b6a9d73a3a9f1052</td>\n",
       "    </tr>\n",
       "  </tbody>\n",
       "</table>\n",
       "</div>"
      ],
      "text/plain": [
       "                        _id  bonusPointsEarned  \\\n",
       "0  5ff1e1eb0a720f0523000575              500.0   \n",
       "1  5ff1e1bb0a720f052300056b              150.0   \n",
       "2  5ff1e1f10a720f052300057a                5.0   \n",
       "3  5ff1e1ee0a7214ada100056f                5.0   \n",
       "4  5ff1e1d20a7214ada1000561                5.0   \n",
       "\n",
       "                             bonusPointsEarnedReason  createDate dateScanned  \\\n",
       "0  Receipt number 2 completed, bonus point schedu...  2021-01-03  2021-01-03   \n",
       "1  Receipt number 5 completed, bonus point schedu...  2021-01-03  2021-01-03   \n",
       "2                         All-receipts receipt bonus  2021-01-03  2021-01-03   \n",
       "3                         All-receipts receipt bonus  2021-01-03  2021-01-03   \n",
       "4                         All-receipts receipt bonus  2021-01-03  2021-01-03   \n",
       "\n",
       "  finishedDate  modifyDate pointsAwardedDate pointsEarned purchaseDate  \\\n",
       "0   2021-01-03  2021-01-03        2021-01-03        500.0   2021-01-02   \n",
       "1   2021-01-03  2021-01-03        2021-01-03        150.0   2021-01-02   \n",
       "2          NaN  2021-01-03               NaN            5   2021-01-02   \n",
       "3   2021-01-03  2021-01-03        2021-01-03          5.0   2021-01-02   \n",
       "4   2021-01-03  2021-01-03        2021-01-03          5.0   2021-01-02   \n",
       "\n",
       "   purchasedItemCount rewardsReceiptStatus totalSpent  \\\n",
       "0                 5.0             FINISHED      26.00   \n",
       "1                 2.0             FINISHED      11.00   \n",
       "2                 1.0             REJECTED      10.00   \n",
       "3                 4.0             FINISHED      28.00   \n",
       "4                 2.0             FINISHED       1.00   \n",
       "\n",
       "                     userId  \n",
       "0  5ff1e1eacfcf6c399c274ae6  \n",
       "1  5ff1e194b6a9d73a3a9f1052  \n",
       "2  5ff1e1f1cfcf6c399c274b0b  \n",
       "3  5ff1e1eacfcf6c399c274ae6  \n",
       "4  5ff1e194b6a9d73a3a9f1052  "
      ]
     },
     "execution_count": 209,
     "metadata": {},
     "output_type": "execute_result"
    }
   ],
   "source": [
    "df_receipts.head()"
   ]
  },
  {
   "cell_type": "markdown",
   "id": "5c601681",
   "metadata": {},
   "source": [
    "## Items List"
   ]
  },
  {
   "cell_type": "code",
   "execution_count": 210,
   "id": "4cab0749",
   "metadata": {},
   "outputs": [
    {
     "data": {
      "text/html": [
       "<div>\n",
       "<style scoped>\n",
       "    .dataframe tbody tr th:only-of-type {\n",
       "        vertical-align: middle;\n",
       "    }\n",
       "\n",
       "    .dataframe tbody tr th {\n",
       "        vertical-align: top;\n",
       "    }\n",
       "\n",
       "    .dataframe thead th {\n",
       "        text-align: right;\n",
       "    }\n",
       "</style>\n",
       "<table border=\"1\" class=\"dataframe\">\n",
       "  <thead>\n",
       "    <tr style=\"text-align: right;\">\n",
       "      <th></th>\n",
       "      <th>barcode</th>\n",
       "      <th>_id</th>\n",
       "      <th>description</th>\n",
       "      <th>finalPrice</th>\n",
       "      <th>itemPrice</th>\n",
       "      <th>needsFetchReview</th>\n",
       "      <th>partnerItemId</th>\n",
       "      <th>preventTargetGapPoints</th>\n",
       "      <th>quantityPurchased</th>\n",
       "      <th>userFlaggedBarcode</th>\n",
       "      <th>...</th>\n",
       "      <th>itemNumber</th>\n",
       "      <th>originalMetaBriteQuantityPurchased</th>\n",
       "      <th>pointsEarned</th>\n",
       "      <th>targetPrice</th>\n",
       "      <th>competitiveProduct</th>\n",
       "      <th>originalFinalPrice</th>\n",
       "      <th>originalMetaBriteItemPrice</th>\n",
       "      <th>deleted</th>\n",
       "      <th>priceAfterCoupon</th>\n",
       "      <th>metabriteCampaignId</th>\n",
       "    </tr>\n",
       "  </thead>\n",
       "  <tbody>\n",
       "    <tr>\n",
       "      <th>0</th>\n",
       "      <td>4011</td>\n",
       "      <td>5ff1e1eb0a720f0523000575</td>\n",
       "      <td>ITEM NOT FOUND</td>\n",
       "      <td>26.00</td>\n",
       "      <td>26.00</td>\n",
       "      <td>False</td>\n",
       "      <td>1</td>\n",
       "      <td>True</td>\n",
       "      <td>5.0</td>\n",
       "      <td>4011</td>\n",
       "      <td>...</td>\n",
       "      <td>NaN</td>\n",
       "      <td>NaN</td>\n",
       "      <td>NaN</td>\n",
       "      <td>NaN</td>\n",
       "      <td>NaN</td>\n",
       "      <td>NaN</td>\n",
       "      <td>NaN</td>\n",
       "      <td>NaN</td>\n",
       "      <td>NaN</td>\n",
       "      <td>NaN</td>\n",
       "    </tr>\n",
       "    <tr>\n",
       "      <th>1</th>\n",
       "      <td>4011</td>\n",
       "      <td>5ff1e1bb0a720f052300056b</td>\n",
       "      <td>ITEM NOT FOUND</td>\n",
       "      <td>1</td>\n",
       "      <td>1</td>\n",
       "      <td>NaN</td>\n",
       "      <td>1</td>\n",
       "      <td>NaN</td>\n",
       "      <td>1.0</td>\n",
       "      <td>NaN</td>\n",
       "      <td>...</td>\n",
       "      <td>NaN</td>\n",
       "      <td>NaN</td>\n",
       "      <td>NaN</td>\n",
       "      <td>NaN</td>\n",
       "      <td>NaN</td>\n",
       "      <td>NaN</td>\n",
       "      <td>NaN</td>\n",
       "      <td>NaN</td>\n",
       "      <td>NaN</td>\n",
       "      <td>NaN</td>\n",
       "    </tr>\n",
       "    <tr>\n",
       "      <th>2</th>\n",
       "      <td>028400642255</td>\n",
       "      <td>5ff1e1bb0a720f052300056b</td>\n",
       "      <td>DORITOS TORTILLA CHIP SPICY SWEET CHILI REDUCE...</td>\n",
       "      <td>10.00</td>\n",
       "      <td>10.00</td>\n",
       "      <td>True</td>\n",
       "      <td>2</td>\n",
       "      <td>True</td>\n",
       "      <td>1.0</td>\n",
       "      <td>028400642255</td>\n",
       "      <td>...</td>\n",
       "      <td>NaN</td>\n",
       "      <td>NaN</td>\n",
       "      <td>NaN</td>\n",
       "      <td>NaN</td>\n",
       "      <td>NaN</td>\n",
       "      <td>NaN</td>\n",
       "      <td>NaN</td>\n",
       "      <td>NaN</td>\n",
       "      <td>NaN</td>\n",
       "      <td>NaN</td>\n",
       "    </tr>\n",
       "    <tr>\n",
       "      <th>3</th>\n",
       "      <td>NaN</td>\n",
       "      <td>5ff1e1f10a720f052300057a</td>\n",
       "      <td>NaN</td>\n",
       "      <td>NaN</td>\n",
       "      <td>NaN</td>\n",
       "      <td>False</td>\n",
       "      <td>1</td>\n",
       "      <td>True</td>\n",
       "      <td>NaN</td>\n",
       "      <td>4011</td>\n",
       "      <td>...</td>\n",
       "      <td>NaN</td>\n",
       "      <td>NaN</td>\n",
       "      <td>NaN</td>\n",
       "      <td>NaN</td>\n",
       "      <td>NaN</td>\n",
       "      <td>NaN</td>\n",
       "      <td>NaN</td>\n",
       "      <td>NaN</td>\n",
       "      <td>NaN</td>\n",
       "      <td>NaN</td>\n",
       "    </tr>\n",
       "    <tr>\n",
       "      <th>4</th>\n",
       "      <td>4011</td>\n",
       "      <td>5ff1e1ee0a7214ada100056f</td>\n",
       "      <td>ITEM NOT FOUND</td>\n",
       "      <td>28.00</td>\n",
       "      <td>28.00</td>\n",
       "      <td>False</td>\n",
       "      <td>1</td>\n",
       "      <td>True</td>\n",
       "      <td>4.0</td>\n",
       "      <td>4011</td>\n",
       "      <td>...</td>\n",
       "      <td>NaN</td>\n",
       "      <td>NaN</td>\n",
       "      <td>NaN</td>\n",
       "      <td>NaN</td>\n",
       "      <td>NaN</td>\n",
       "      <td>NaN</td>\n",
       "      <td>NaN</td>\n",
       "      <td>NaN</td>\n",
       "      <td>NaN</td>\n",
       "      <td>NaN</td>\n",
       "    </tr>\n",
       "  </tbody>\n",
       "</table>\n",
       "<p>5 rows × 35 columns</p>\n",
       "</div>"
      ],
      "text/plain": [
       "        barcode                       _id  \\\n",
       "0          4011  5ff1e1eb0a720f0523000575   \n",
       "1          4011  5ff1e1bb0a720f052300056b   \n",
       "2  028400642255  5ff1e1bb0a720f052300056b   \n",
       "3           NaN  5ff1e1f10a720f052300057a   \n",
       "4          4011  5ff1e1ee0a7214ada100056f   \n",
       "\n",
       "                                         description finalPrice itemPrice  \\\n",
       "0                                     ITEM NOT FOUND      26.00     26.00   \n",
       "1                                     ITEM NOT FOUND          1         1   \n",
       "2  DORITOS TORTILLA CHIP SPICY SWEET CHILI REDUCE...      10.00     10.00   \n",
       "3                                                NaN        NaN       NaN   \n",
       "4                                     ITEM NOT FOUND      28.00     28.00   \n",
       "\n",
       "  needsFetchReview partnerItemId preventTargetGapPoints  quantityPurchased  \\\n",
       "0            False             1                   True                5.0   \n",
       "1              NaN             1                    NaN                1.0   \n",
       "2             True             2                   True                1.0   \n",
       "3            False             1                   True                NaN   \n",
       "4            False             1                   True                4.0   \n",
       "\n",
       "  userFlaggedBarcode  ... itemNumber originalMetaBriteQuantityPurchased  \\\n",
       "0               4011  ...        NaN                                NaN   \n",
       "1                NaN  ...        NaN                                NaN   \n",
       "2       028400642255  ...        NaN                                NaN   \n",
       "3               4011  ...        NaN                                NaN   \n",
       "4               4011  ...        NaN                                NaN   \n",
       "\n",
       "   pointsEarned targetPrice competitiveProduct originalFinalPrice  \\\n",
       "0           NaN         NaN                NaN                NaN   \n",
       "1           NaN         NaN                NaN                NaN   \n",
       "2           NaN         NaN                NaN                NaN   \n",
       "3           NaN         NaN                NaN                NaN   \n",
       "4           NaN         NaN                NaN                NaN   \n",
       "\n",
       "  originalMetaBriteItemPrice deleted priceAfterCoupon metabriteCampaignId  \n",
       "0                        NaN     NaN              NaN                 NaN  \n",
       "1                        NaN     NaN              NaN                 NaN  \n",
       "2                        NaN     NaN              NaN                 NaN  \n",
       "3                        NaN     NaN              NaN                 NaN  \n",
       "4                        NaN     NaN              NaN                 NaN  \n",
       "\n",
       "[5 rows x 35 columns]"
      ]
     },
     "execution_count": 210,
     "metadata": {},
     "output_type": "execute_result"
    }
   ],
   "source": [
    "df_itemslist.head()"
   ]
  },
  {
   "cell_type": "markdown",
   "id": "61847b21",
   "metadata": {},
   "source": [
    "## Users Data"
   ]
  },
  {
   "cell_type": "code",
   "execution_count": 211,
   "id": "d71db8f1",
   "metadata": {},
   "outputs": [
    {
     "data": {
      "text/html": [
       "<div>\n",
       "<style scoped>\n",
       "    .dataframe tbody tr th:only-of-type {\n",
       "        vertical-align: middle;\n",
       "    }\n",
       "\n",
       "    .dataframe tbody tr th {\n",
       "        vertical-align: top;\n",
       "    }\n",
       "\n",
       "    .dataframe thead th {\n",
       "        text-align: right;\n",
       "    }\n",
       "</style>\n",
       "<table border=\"1\" class=\"dataframe\">\n",
       "  <thead>\n",
       "    <tr style=\"text-align: right;\">\n",
       "      <th></th>\n",
       "      <th>active</th>\n",
       "      <th>role</th>\n",
       "      <th>signUpSource</th>\n",
       "      <th>state</th>\n",
       "      <th>_id</th>\n",
       "      <th>createdDate</th>\n",
       "      <th>lastLogin</th>\n",
       "    </tr>\n",
       "  </thead>\n",
       "  <tbody>\n",
       "    <tr>\n",
       "      <th>0</th>\n",
       "      <td>True</td>\n",
       "      <td>consumer</td>\n",
       "      <td>Email</td>\n",
       "      <td>WI</td>\n",
       "      <td>5ff1e194b6a9d73a3a9f1052</td>\n",
       "      <td>2021-01-03 10:24:04.800</td>\n",
       "      <td>2021-01-03 10:25:37.858</td>\n",
       "    </tr>\n",
       "    <tr>\n",
       "      <th>1</th>\n",
       "      <td>True</td>\n",
       "      <td>consumer</td>\n",
       "      <td>Email</td>\n",
       "      <td>WI</td>\n",
       "      <td>5ff1e194b6a9d73a3a9f1052</td>\n",
       "      <td>2021-01-03 10:24:04.800</td>\n",
       "      <td>2021-01-03 10:25:37.858</td>\n",
       "    </tr>\n",
       "    <tr>\n",
       "      <th>2</th>\n",
       "      <td>True</td>\n",
       "      <td>consumer</td>\n",
       "      <td>Email</td>\n",
       "      <td>WI</td>\n",
       "      <td>5ff1e194b6a9d73a3a9f1052</td>\n",
       "      <td>2021-01-03 10:24:04.800</td>\n",
       "      <td>2021-01-03 10:25:37.858</td>\n",
       "    </tr>\n",
       "    <tr>\n",
       "      <th>3</th>\n",
       "      <td>True</td>\n",
       "      <td>consumer</td>\n",
       "      <td>Email</td>\n",
       "      <td>WI</td>\n",
       "      <td>5ff1e1eacfcf6c399c274ae6</td>\n",
       "      <td>2021-01-03 10:25:30.554</td>\n",
       "      <td>2021-01-03 10:25:30.597</td>\n",
       "    </tr>\n",
       "    <tr>\n",
       "      <th>4</th>\n",
       "      <td>True</td>\n",
       "      <td>consumer</td>\n",
       "      <td>Email</td>\n",
       "      <td>WI</td>\n",
       "      <td>5ff1e194b6a9d73a3a9f1052</td>\n",
       "      <td>2021-01-03 10:24:04.800</td>\n",
       "      <td>2021-01-03 10:25:37.858</td>\n",
       "    </tr>\n",
       "  </tbody>\n",
       "</table>\n",
       "</div>"
      ],
      "text/plain": [
       "   active      role signUpSource state                       _id  \\\n",
       "0    True  consumer        Email    WI  5ff1e194b6a9d73a3a9f1052   \n",
       "1    True  consumer        Email    WI  5ff1e194b6a9d73a3a9f1052   \n",
       "2    True  consumer        Email    WI  5ff1e194b6a9d73a3a9f1052   \n",
       "3    True  consumer        Email    WI  5ff1e1eacfcf6c399c274ae6   \n",
       "4    True  consumer        Email    WI  5ff1e194b6a9d73a3a9f1052   \n",
       "\n",
       "              createdDate               lastLogin  \n",
       "0 2021-01-03 10:24:04.800 2021-01-03 10:25:37.858  \n",
       "1 2021-01-03 10:24:04.800 2021-01-03 10:25:37.858  \n",
       "2 2021-01-03 10:24:04.800 2021-01-03 10:25:37.858  \n",
       "3 2021-01-03 10:25:30.554 2021-01-03 10:25:30.597  \n",
       "4 2021-01-03 10:24:04.800 2021-01-03 10:25:37.858  "
      ]
     },
     "execution_count": 211,
     "metadata": {},
     "output_type": "execute_result"
    }
   ],
   "source": [
    "df_users.head()"
   ]
  },
  {
   "cell_type": "markdown",
   "id": "7d5af05e",
   "metadata": {},
   "source": [
    "## Brands Data"
   ]
  },
  {
   "cell_type": "code",
   "execution_count": 212,
   "id": "e48a186e",
   "metadata": {},
   "outputs": [
    {
     "data": {
      "text/html": [
       "<div>\n",
       "<style scoped>\n",
       "    .dataframe tbody tr th:only-of-type {\n",
       "        vertical-align: middle;\n",
       "    }\n",
       "\n",
       "    .dataframe tbody tr th {\n",
       "        vertical-align: top;\n",
       "    }\n",
       "\n",
       "    .dataframe thead th {\n",
       "        text-align: right;\n",
       "    }\n",
       "</style>\n",
       "<table border=\"1\" class=\"dataframe\">\n",
       "  <thead>\n",
       "    <tr style=\"text-align: right;\">\n",
       "      <th></th>\n",
       "      <th>barcode</th>\n",
       "      <th>category</th>\n",
       "      <th>categoryCode</th>\n",
       "      <th>name</th>\n",
       "      <th>topBrand</th>\n",
       "      <th>_id</th>\n",
       "      <th>cpg_id</th>\n",
       "      <th>cpg_ref</th>\n",
       "      <th>brandCode</th>\n",
       "    </tr>\n",
       "  </thead>\n",
       "  <tbody>\n",
       "    <tr>\n",
       "      <th>0</th>\n",
       "      <td>511111019862</td>\n",
       "      <td>Baking</td>\n",
       "      <td>BAKING</td>\n",
       "      <td>test brand @1612366101024</td>\n",
       "      <td>False</td>\n",
       "      <td>601ac115be37ce2ead437551</td>\n",
       "      <td>601ac114be37ce2ead437550</td>\n",
       "      <td>Cogs</td>\n",
       "      <td>NaN</td>\n",
       "    </tr>\n",
       "    <tr>\n",
       "      <th>1</th>\n",
       "      <td>511111519928</td>\n",
       "      <td>Beverages</td>\n",
       "      <td>BEVERAGES</td>\n",
       "      <td>Starbucks</td>\n",
       "      <td>False</td>\n",
       "      <td>601c5460be37ce2ead43755f</td>\n",
       "      <td>5332f5fbe4b03c9a25efd0ba</td>\n",
       "      <td>Cogs</td>\n",
       "      <td>STARBUCKS</td>\n",
       "    </tr>\n",
       "    <tr>\n",
       "      <th>2</th>\n",
       "      <td>511111819905</td>\n",
       "      <td>Baking</td>\n",
       "      <td>BAKING</td>\n",
       "      <td>test brand @1612366146176</td>\n",
       "      <td>False</td>\n",
       "      <td>601ac142be37ce2ead43755d</td>\n",
       "      <td>601ac142be37ce2ead437559</td>\n",
       "      <td>Cogs</td>\n",
       "      <td>TEST BRANDCODE @1612366146176</td>\n",
       "    </tr>\n",
       "    <tr>\n",
       "      <th>3</th>\n",
       "      <td>511111519874</td>\n",
       "      <td>Baking</td>\n",
       "      <td>BAKING</td>\n",
       "      <td>test brand @1612366146051</td>\n",
       "      <td>False</td>\n",
       "      <td>601ac142be37ce2ead43755a</td>\n",
       "      <td>601ac142be37ce2ead437559</td>\n",
       "      <td>Cogs</td>\n",
       "      <td>TEST BRANDCODE @1612366146051</td>\n",
       "    </tr>\n",
       "    <tr>\n",
       "      <th>4</th>\n",
       "      <td>511111319917</td>\n",
       "      <td>Candy &amp; Sweets</td>\n",
       "      <td>CANDY_AND_SWEETS</td>\n",
       "      <td>test brand @1612366146827</td>\n",
       "      <td>False</td>\n",
       "      <td>601ac142be37ce2ead43755e</td>\n",
       "      <td>5332fa12e4b03c9a25efd1e7</td>\n",
       "      <td>Cogs</td>\n",
       "      <td>TEST BRANDCODE @1612366146827</td>\n",
       "    </tr>\n",
       "  </tbody>\n",
       "</table>\n",
       "</div>"
      ],
      "text/plain": [
       "        barcode        category      categoryCode                       name  \\\n",
       "0  511111019862          Baking            BAKING  test brand @1612366101024   \n",
       "1  511111519928       Beverages         BEVERAGES                  Starbucks   \n",
       "2  511111819905          Baking            BAKING  test brand @1612366146176   \n",
       "3  511111519874          Baking            BAKING  test brand @1612366146051   \n",
       "4  511111319917  Candy & Sweets  CANDY_AND_SWEETS  test brand @1612366146827   \n",
       "\n",
       "  topBrand                       _id                    cpg_id cpg_ref  \\\n",
       "0    False  601ac115be37ce2ead437551  601ac114be37ce2ead437550    Cogs   \n",
       "1    False  601c5460be37ce2ead43755f  5332f5fbe4b03c9a25efd0ba    Cogs   \n",
       "2    False  601ac142be37ce2ead43755d  601ac142be37ce2ead437559    Cogs   \n",
       "3    False  601ac142be37ce2ead43755a  601ac142be37ce2ead437559    Cogs   \n",
       "4    False  601ac142be37ce2ead43755e  5332fa12e4b03c9a25efd1e7    Cogs   \n",
       "\n",
       "                       brandCode  \n",
       "0                            NaN  \n",
       "1                      STARBUCKS  \n",
       "2  TEST BRANDCODE @1612366146176  \n",
       "3  TEST BRANDCODE @1612366146051  \n",
       "4  TEST BRANDCODE @1612366146827  "
      ]
     },
     "execution_count": 212,
     "metadata": {},
     "output_type": "execute_result"
    }
   ],
   "source": [
    "df_brands.head()"
   ]
  },
  {
   "cell_type": "markdown",
   "id": "da2b4c56",
   "metadata": {},
   "source": [
    "## Second: Queries to answer predetermined business questions"
   ]
  },
  {
   "cell_type": "markdown",
   "id": "fe859aaa",
   "metadata": {},
   "source": [
    "Question : When considering average spend from receipts with 'rewardsReceiptStatus’ of ‘Accepted’ or ‘Rejected’, which is greater?"
   ]
  },
  {
   "cell_type": "code",
   "execution_count": 216,
   "id": "e43e58f0",
   "metadata": {
    "scrolled": true
   },
   "outputs": [
    {
     "data": {
      "text/html": [
       "<div>\n",
       "<style scoped>\n",
       "    .dataframe tbody tr th:only-of-type {\n",
       "        vertical-align: middle;\n",
       "    }\n",
       "\n",
       "    .dataframe tbody tr th {\n",
       "        vertical-align: top;\n",
       "    }\n",
       "\n",
       "    .dataframe thead th {\n",
       "        text-align: right;\n",
       "    }\n",
       "</style>\n",
       "<table border=\"1\" class=\"dataframe\">\n",
       "  <thead>\n",
       "    <tr style=\"text-align: right;\">\n",
       "      <th></th>\n",
       "      <th>Average_Spent</th>\n",
       "      <th>Rewards_Receipt_Status</th>\n",
       "    </tr>\n",
       "  </thead>\n",
       "  <tbody>\n",
       "    <tr>\n",
       "      <th>0</th>\n",
       "      <td>None</td>\n",
       "      <td>None</td>\n",
       "    </tr>\n",
       "  </tbody>\n",
       "</table>\n",
       "</div>"
      ],
      "text/plain": [
       "  Average_Spent Rewards_Receipt_Status\n",
       "0          None                   None"
      ]
     },
     "execution_count": 216,
     "metadata": {},
     "output_type": "execute_result"
    }
   ],
   "source": [
    "mysql(\"select avg(totalspent) as Average_Spent, rewardsReceiptStatus as Rewards_Receipt_Status from df_receipts where rewardsReceiptStatus = 'ACCEPTED'\")"
   ]
  },
  {
   "cell_type": "code",
   "execution_count": 217,
   "id": "7691f849",
   "metadata": {},
   "outputs": [
    {
     "data": {
      "text/html": [
       "<div>\n",
       "<style scoped>\n",
       "    .dataframe tbody tr th:only-of-type {\n",
       "        vertical-align: middle;\n",
       "    }\n",
       "\n",
       "    .dataframe tbody tr th {\n",
       "        vertical-align: top;\n",
       "    }\n",
       "\n",
       "    .dataframe thead th {\n",
       "        text-align: right;\n",
       "    }\n",
       "</style>\n",
       "<table border=\"1\" class=\"dataframe\">\n",
       "  <thead>\n",
       "    <tr style=\"text-align: right;\">\n",
       "      <th></th>\n",
       "      <th>Average_Spent</th>\n",
       "      <th>Rewards_Receipt_Status</th>\n",
       "    </tr>\n",
       "  </thead>\n",
       "  <tbody>\n",
       "    <tr>\n",
       "      <th>0</th>\n",
       "      <td>23.326056</td>\n",
       "      <td>REJECTED</td>\n",
       "    </tr>\n",
       "  </tbody>\n",
       "</table>\n",
       "</div>"
      ],
      "text/plain": [
       "   Average_Spent Rewards_Receipt_Status\n",
       "0      23.326056               REJECTED"
      ]
     },
     "execution_count": 217,
     "metadata": {},
     "output_type": "execute_result"
    }
   ],
   "source": [
    "mysql(\"select avg(totalspent) as Average_Spent, rewardsReceiptStatus as Rewards_Receipt_Status from df_receipts where rewardsReceiptStatus = 'REJECTED' \")"
   ]
  },
  {
   "cell_type": "markdown",
   "id": "1abb17de",
   "metadata": {},
   "source": [
    "After executing the above 2 queries we can see that there are no records in receipts data with 'rewardsReceiptStatus’ as 'ACCEPTED'. There are records with 'REJECTED' status which has an average spend of 23.326056"
   ]
  },
  {
   "cell_type": "markdown",
   "id": "9ca35175",
   "metadata": {},
   "source": [
    "Question: When considering total number of items purchased from receipts with 'rewardsReceiptStatus’ of ‘Accepted’ or ‘Rejected’, which is greater?"
   ]
  },
  {
   "cell_type": "code",
   "execution_count": 218,
   "id": "20a630bf",
   "metadata": {},
   "outputs": [
    {
     "data": {
      "text/html": [
       "<div>\n",
       "<style scoped>\n",
       "    .dataframe tbody tr th:only-of-type {\n",
       "        vertical-align: middle;\n",
       "    }\n",
       "\n",
       "    .dataframe tbody tr th {\n",
       "        vertical-align: top;\n",
       "    }\n",
       "\n",
       "    .dataframe thead th {\n",
       "        text-align: right;\n",
       "    }\n",
       "</style>\n",
       "<table border=\"1\" class=\"dataframe\">\n",
       "  <thead>\n",
       "    <tr style=\"text-align: right;\">\n",
       "      <th></th>\n",
       "      <th>Total number of items purchased</th>\n",
       "      <th>Status</th>\n",
       "    </tr>\n",
       "  </thead>\n",
       "  <tbody>\n",
       "    <tr>\n",
       "      <th>0</th>\n",
       "      <td>8184.0</td>\n",
       "      <td>FINISHED</td>\n",
       "    </tr>\n",
       "    <tr>\n",
       "      <th>1</th>\n",
       "      <td>1014.0</td>\n",
       "      <td>FLAGGED</td>\n",
       "    </tr>\n",
       "    <tr>\n",
       "      <th>2</th>\n",
       "      <td>NaN</td>\n",
       "      <td>PENDING</td>\n",
       "    </tr>\n",
       "    <tr>\n",
       "      <th>3</th>\n",
       "      <td>173.0</td>\n",
       "      <td>REJECTED</td>\n",
       "    </tr>\n",
       "    <tr>\n",
       "      <th>4</th>\n",
       "      <td>NaN</td>\n",
       "      <td>SUBMITTED</td>\n",
       "    </tr>\n",
       "  </tbody>\n",
       "</table>\n",
       "</div>"
      ],
      "text/plain": [
       "   Total number of items purchased     Status\n",
       "0                           8184.0   FINISHED\n",
       "1                           1014.0    FLAGGED\n",
       "2                              NaN    PENDING\n",
       "3                            173.0   REJECTED\n",
       "4                              NaN  SUBMITTED"
      ]
     },
     "execution_count": 218,
     "metadata": {},
     "output_type": "execute_result"
    }
   ],
   "source": [
    "mysql(\"select sum(purchasedItemCount) as 'Total number of items purchased', rewardsReceiptStatus as 'Status' from df_receipts group by rewardsReceiptStatus \")"
   ]
  },
  {
   "cell_type": "markdown",
   "id": "209d4d4b",
   "metadata": {},
   "source": [
    "As we have already seen in previous question, there are no records with 'ACCEPTED' status for reqards receipt we did not get the count of total number of items prchased in above query. For the count of items purchased for 'REJECTED' status we have 173 items."
   ]
  },
  {
   "cell_type": "markdown",
   "id": "210bd163",
   "metadata": {},
   "source": [
    "## Third: Evaluate Data Quality Issues in the Data Provided"
   ]
  },
  {
   "cell_type": "markdown",
   "id": "83fe3795",
   "metadata": {},
   "source": [
    "More than half of the records in Users table is redundent with only 212 unique user details availabe out of 495 availabe records."
   ]
  },
  {
   "cell_type": "code",
   "execution_count": 228,
   "id": "a7f27fa1",
   "metadata": {},
   "outputs": [
    {
     "name": "stdout",
     "output_type": "stream",
     "text": [
      "Number of rows in Users DataFrame: 495\n",
      "Number of duplicate rows in Users DataFrame: 283\n",
      "Number of Unique unsers in our database: 212\n"
     ]
    }
   ],
   "source": [
    "len_users = len(df_users)\n",
    "print(\"Number of rows in Users DataFrame:\",len_users)\n",
    "dup_users = df_users.duplicated().sum()\n",
    "print(\"Number of duplicate rows in Users DataFrame:\",dup_users)\n",
    "unique_users = len_users - dup_users\n",
    "print(\"Number of Unique unsers in our database:\",unique_users)"
   ]
  },
  {
   "cell_type": "markdown",
   "id": "9318d47c",
   "metadata": {},
   "source": [
    "There are 117 user_id's in receipts database that are not availbe  in users database"
   ]
  },
  {
   "cell_type": "code",
   "execution_count": 231,
   "id": "a2b1c460",
   "metadata": {},
   "outputs": [
    {
     "name": "stdout",
     "output_type": "stream",
     "text": [
      "Count of users whose details are missing: 117\n"
     ]
    }
   ],
   "source": [
    "df_missing_users = mysql(\"select * from df_receipts a left join df_users b on a.userId = b._id where b._id is null\")\n",
    "print(\"Count of users whose details are missing:\",len(pd.unique(df_missing_users['userId'])))"
   ]
  },
  {
   "cell_type": "markdown",
   "id": "30e7cfaf",
   "metadata": {},
   "source": [
    "There are 71 users in user database that does not have a receipt availabe. We will have to discuss with business stakeholders and find out the reason why these users are not having receipts in our database."
   ]
  },
  {
   "cell_type": "code",
   "execution_count": 234,
   "id": "df1fb546",
   "metadata": {},
   "outputs": [
    {
     "name": "stdout",
     "output_type": "stream",
     "text": [
      "Count of users who does not have receipts availble: 71\n"
     ]
    }
   ],
   "source": [
    "df_missing_receipts = mysql(\"select a._id from df_users a left join df_receipts b on a._id = b.userId where b.userId is null\")\n",
    "print(\"Count of users who does not have receipts availble:\",len(pd.unique(df_missing_receipts['_id'])))"
   ]
  },
  {
   "cell_type": "markdown",
   "id": "1baa5510",
   "metadata": {},
   "source": [
    "Almost half of the data is missing for some of the below given fields. This missing data could be of concern in our analysis. "
   ]
  },
  {
   "cell_type": "code",
   "execution_count": 237,
   "id": "056013f1",
   "metadata": {},
   "outputs": [
    {
     "name": "stdout",
     "output_type": "stream",
     "text": [
      "bonusPointsEarned : 51.385165326184094\n",
      "bonusPointsEarnedReason : 51.385165326184094\n",
      "finishedDate : 49.240393208221626\n",
      "pointsAwardedDate : 52.01072386058981\n",
      "pointsEarned : 45.57640750670242\n",
      "purchaseDate : 40.03574620196604\n",
      "purchasedItemCount : 43.25290437890974\n",
      "totalSpent : 38.8739946380697\n"
     ]
    }
   ],
   "source": [
    "for k,v in df_receipts.isnull().mean().items():\n",
    "    if v > 0:\n",
    "        print(k,\":\",v*100)"
   ]
  },
  {
   "cell_type": "markdown",
   "id": "5d8c1c0f",
   "metadata": {},
   "source": [
    "We do not have details on items bought for 440 receipts since the field \"rewardsReceiptItemList\" is not availabe in receipts database"
   ]
  },
  {
   "cell_type": "code",
   "execution_count": 241,
   "id": "f6acdbd0",
   "metadata": {},
   "outputs": [
    {
     "name": "stdout",
     "output_type": "stream",
     "text": [
      "Count of receipts that does not have any items listed: 440\n"
     ]
    }
   ],
   "source": [
    "df_missing_itemslist = mysql(\"select DISTINCT a._id from df_receipts a left join df_itemslist b on a._id = b._id where b._id is null\")\n",
    "print(\"Count of receipts that does not have any items listed:\",len(df_missing_itemslist))"
   ]
  },
  {
   "cell_type": "markdown",
   "id": "5f502219",
   "metadata": {},
   "source": [
    "More than 50% of the data is missing for topBrand & catagoryCode fields."
   ]
  },
  {
   "cell_type": "code",
   "execution_count": 243,
   "id": "c044bf25",
   "metadata": {},
   "outputs": [
    {
     "name": "stdout",
     "output_type": "stream",
     "text": [
      "category : 13.281919451585262\n",
      "categoryCode : 55.69837189374465\n",
      "topBrand : 52.44215938303341\n",
      "brandCode : 20.051413881748072\n"
     ]
    }
   ],
   "source": [
    "for k,v in df_brands.isnull().mean().items():\n",
    "    if v > 0:\n",
    "        print(k,\":\",v*100)"
   ]
  },
  {
   "cell_type": "code",
   "execution_count": null,
   "id": "7de4b9a4",
   "metadata": {},
   "outputs": [],
   "source": []
  },
  {
   "cell_type": "code",
   "execution_count": null,
   "id": "210c9710",
   "metadata": {},
   "outputs": [],
   "source": []
  },
  {
   "cell_type": "code",
   "execution_count": null,
   "id": "fd7c412d",
   "metadata": {},
   "outputs": [],
   "source": []
  },
  {
   "cell_type": "code",
   "execution_count": null,
   "id": "cb0e9d59",
   "metadata": {},
   "outputs": [],
   "source": []
  },
  {
   "cell_type": "code",
   "execution_count": null,
   "id": "db5fa7fa",
   "metadata": {},
   "outputs": [],
   "source": []
  },
  {
   "cell_type": "code",
   "execution_count": null,
   "id": "407dab4d",
   "metadata": {},
   "outputs": [],
   "source": []
  },
  {
   "cell_type": "code",
   "execution_count": null,
   "id": "ddc78dcc",
   "metadata": {},
   "outputs": [],
   "source": []
  },
  {
   "cell_type": "code",
   "execution_count": null,
   "id": "ec5aa543",
   "metadata": {},
   "outputs": [],
   "source": []
  },
  {
   "cell_type": "code",
   "execution_count": null,
   "id": "ba131db2",
   "metadata": {},
   "outputs": [],
   "source": []
  },
  {
   "cell_type": "code",
   "execution_count": null,
   "id": "2e6a2bb8",
   "metadata": {},
   "outputs": [],
   "source": []
  }
 ],
 "metadata": {
  "kernelspec": {
   "display_name": "Python 3",
   "language": "python",
   "name": "python3"
  },
  "language_info": {
   "codemirror_mode": {
    "name": "ipython",
    "version": 3
   },
   "file_extension": ".py",
   "mimetype": "text/x-python",
   "name": "python",
   "nbconvert_exporter": "python",
   "pygments_lexer": "ipython3",
   "version": "3.8.8"
  }
 },
 "nbformat": 4,
 "nbformat_minor": 5
}
